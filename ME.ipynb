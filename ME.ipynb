{
 "cells": [
  {
   "cell_type": "code",
   "execution_count": null,
   "metadata": {},
   "outputs": [],
   "source": [
    "sha256=(\"jdfh\",\"mshd\",12,89.001)\n",
    "print(sha256[2:4])"
   ]
  },
  {
   "cell_type": "code",
   "execution_count": null,
   "metadata": {},
   "outputs": [],
   "source": [
    "num1=(65.0,655,\"qwer\")\n",
    "num2=(\"Rohan\",\"1/18/fet/bcs/043\")\n",
    "num3=num1+num2\n",
    "print(num3)"
   ]
  },
  {
   "cell_type": "code",
   "execution_count": null,
   "metadata": {},
   "outputs": [],
   "source": [
    "num3.count(65)"
   ]
  },
  {
   "cell_type": "code",
   "execution_count": null,
   "metadata": {},
   "outputs": [],
   "source": [
    "print(65 in num3)"
   ]
  },
  {
   "cell_type": "code",
   "execution_count": 4,
   "metadata": {},
   "outputs": [],
   "source": [
    "t=[\"H\",\"A\",\"N\",\"G\",\"M\",\"A\",\"N\"]\n"
   ]
  },
  {
   "cell_type": "code",
   "execution_count": 5,
   "metadata": {},
   "outputs": [
    {
     "name": "stdout",
     "output_type": "stream",
     "text": [
      "Enter a characterH\n",
      "correct\n",
      "0\n",
      "Enter a characterA\n",
      "correct\n",
      "1\n",
      "Enter a characterN\n",
      "correct\n",
      "2\n",
      "Enter a characterG\n",
      "correct\n",
      "3\n",
      "Enter a characterM\n",
      "correct\n",
      "4\n",
      "Enter a characterN\n",
      "correct\n",
      "2\n",
      "Enter a charactera\n"
     ]
    }
   ],
   "source": [
    "for i in t:\n",
    "    q=input(\"Enter a character \")\n",
    "    if q in t:\n",
    "        print(\"correct\")\n",
    "        print(t.index(q))"
   ]
  },
  {
   "cell_type": "code",
   "execution_count": null,
   "metadata": {},
   "outputs": [],
   "source": []
  }
 ],
 "metadata": {
  "kernelspec": {
   "display_name": "Python 3",
   "language": "python",
   "name": "python3"
  },
  "language_info": {
   "codemirror_mode": {
    "name": "ipython",
    "version": 3
   },
   "file_extension": ".py",
   "mimetype": "text/x-python",
   "name": "python",
   "nbconvert_exporter": "python",
   "pygments_lexer": "ipython3",
   "version": "3.7.1"
  }
 },
 "nbformat": 4,
 "nbformat_minor": 2
}
